{
 "cells": [
  {
   "cell_type": "code",
   "execution_count": 10,
   "metadata": {},
   "outputs": [],
   "source": [
    "from sklearn import tree"
   ]
  },
  {
   "cell_type": "code",
   "execution_count": 16,
   "metadata": {},
   "outputs": [
    {
     "name": "stdout",
     "output_type": "stream",
     "text": [
      "[0]\n"
     ]
    }
   ],
   "source": [
    "features=[[1,0],[2,0],[6,1],[7,1]]\n",
    "labels=[0,0,1,1]\n",
    "clt=tree.DecisionTreeClassifier()\n",
    "clt=clt.fit(features,labels)\n",
    "clt=clt.predict([[1,2]])\n",
    "print(clt)"
   ]
  },
  {
   "cell_type": "code",
   "execution_count": 82,
   "metadata": {},
   "outputs": [],
   "source": [
    "import numpy as np \n",
    "import matplotlib.pyplot as plt"
   ]
  },
  {
   "cell_type": "code",
   "execution_count": 102,
   "metadata": {},
   "outputs": [],
   "source": [
    "dogs= 500 \n",
    "cats =500\n",
    "catsHieght=24 + 2 * np.random.rand(cats)\n",
    "dogsHieght=28 + 2 * np.random.rand(dogs)"
   ]
  },
  {
   "cell_type": "code",
   "execution_count": 101,
   "metadata": {},
   "outputs": [
    {
     "data": {
      "image/png": "[encoded data removed]",
      "text/plain": [
       "<Figure size 432x288 with 1 Axes>"
      ]
     },
     "metadata": {},
     "output_type": "display_data"
    },
    {
     "name": "stderr",
     "output_type": "stream",
     "text": [
      "C:\\Users\\manar\\Anaconda3\\lib\\site-packages\\matplotlib\\axes\\_axes.py:6462: UserWarning: The 'normed' kwarg is deprecated, and has been replaced by the 'density' kwarg.\n",
      "  warnings.warn(\"The 'normed' kwarg is deprecated, and has been \"\n",
      "C:\\Users\\manar\\Anaconda3\\lib\\site-packages\\matplotlib\\axes\\_axes.py:6462: UserWarning: The 'normed' kwarg is deprecated, and has been replaced by the 'density' kwarg.\n",
      "  warnings.warn(\"The 'normed' kwarg is deprecated, and has been \"\n"
     ]
    },
    {
     "data": {
      "text/plain": [
       "<matplotlib.axes._subplots.AxesSubplot at 0x2067c33f208>"
      ]
     },
     "execution_count": 101,
     "metadata": {},
     "output_type": "execute_result"
    },
    {
     "data": {
      "image/png": "[encoded data removed]",
      "text/plain": [
       "<Figure size 432x288 with 1 Axes>"
      ]
     },
     "metadata": {},
     "output_type": "display_data"
    }
   ],
   "source": [
    "plt.hist([catsHieght,dogsHieght],stacked=True, color=['r','b'])\n",
    "plt.show()\n",
    "import seaborn as sns\n",
    "ax1=sns.distplot(catsHieght,color='r')\n",
    "sns.distplot(dogsHieght,color='b',ax=ax1)\n"
   ]
  },
  {
   "cell_type": "code",
   "execution_count": null,
   "metadata": {},
   "outputs": [],
   "source": [
    "#this may be better\n"
   ]
  },
  {
   "cell_type": "code",
   "execution_count": 1,
   "metadata": {},
   "outputs": [],
   "source": [
    "from sklearn import datasets\n",
    "iris=datasets.load_iris()\n",
    "x=iris.data \n",
    "y=iris.target"
   ]
  },
  {
   "cell_type": "code",
   "execution_count": 2,
   "metadata": {},
   "outputs": [
    {
     "name": "stderr",
     "output_type": "stream",
     "text": [
      "C:\\Users\\manar\\Anaconda3\\lib\\site-packages\\sklearn\\cross_validation.py:41: DeprecationWarning: This module was deprecated in version 0.18 in favor of the model_selection module into which all the refactored classes and functions are moved. Also note that the interface of the new CV iterators are different from that of this module. This module will be removed in 0.20.\n",
      "  \"This module will be removed in 0.20.\", DeprecationWarning)\n"
     ]
    }
   ],
   "source": [
    "from sklearn.cross_validation import train_test_split\n",
    "x_train,x_test,y_train,y_test=train_test_split(x,y,test_size=.70)"
   ]
  },
  {
   "cell_type": "code",
   "execution_count": 135,
   "metadata": {},
   "outputs": [
    {
     "name": "stdout",
     "output_type": "stream",
     "text": [
      "[0 1 2 2 0 2 2 0 1 0 2 2 0 1 2 2 1 1 0 0 2 1 0 2 0 2 2 0 0 1 2 0 2 1 2 1 0\n",
      " 1 2 0 0 2 0 1 1 2 0 1 1 0 0 0 1 1 0 2 2 2 1 0 1 0 2 0 2 0 2 1 1 0 2 2 0 2\n",
      " 2 0 1 1 1 0 1 2 0 0 0 0 1 1 0 0 2 2 0 0 0 1 1 1 1 0 1 0 1 0 0]\n"
     ]
    }
   ],
   "source": [
    "classifier=tree.DecisionTreeClassifier()\n",
    "classifier.fit(x_train,y_train)\n",
    "predictions=classifier.predict(x_test)\n",
    "print (predictions)"
   ]
  },
  {
   "cell_type": "code",
   "execution_count": 136,
   "metadata": {},
   "outputs": [
    {
     "name": "stdout",
     "output_type": "stream",
     "text": [
      "[0 1 2 2 0 2 2 0 1 0 2 2 0 1 2 2 1 1 0 0 2 1 0 2 0 2 2 0 0 1 2 0 2 1 2 1 0\n",
      " 1 2 0 0 2 0 1 1 2 0 1 1 0 0 0 1 2 0 2 2 2 1 0 1 0 2 0 2 0 2 1 1 0 2 2 0 2\n",
      " 1 0 1 1 1 0 1 1 0 0 0 0 1 1 0 0 2 2 0 0 0 1 1 1 1 0 1 0 2 0 0]\n"
     ]
    }
   ],
   "source": [
    "print(y_test)"
   ]
  },
  {
   "cell_type": "code",
   "execution_count": 138,
   "metadata": {},
   "outputs": [
    {
     "name": "stdout",
     "output_type": "stream",
     "text": [
      "accuracy of decision tree is : 0.9619047619047619\n"
     ]
    }
   ],
   "source": [
    "from sklearn.metrics import accuracy_score\n",
    "print(\"accuracy of decision tree is :\", accuracy_score(y_test,predictions))"
   ]
  },
  {
   "cell_type": "code",
   "execution_count": 42,
   "metadata": {},
   "outputs": [
    {
     "data": {
      "text/plain": [
       "0.9428571428571428"
      ]
     },
     "execution_count": 42,
     "metadata": {},
     "output_type": "execute_result"
    }
   ],
   "source": [
    "classifier=knn()\n",
    "classifier=classifier.fit(x_train,y_train)\n",
    "predictions=classifier.predict(x_test)\n",
    "accuracy_score(y_test,predictions)"
   ]
  },
  {
   "cell_type": "code",
   "execution_count": 133,
   "metadata": {},
   "outputs": [],
   "source": [
    "#algorithm is a function that solve a problem by steps "
   ]
  },
  {
   "cell_type": "code",
   "execution_count": 19,
   "metadata": {},
   "outputs": [
    {
     "name": "stdout",
     "output_type": "stream",
     "text": [
      "svm accuracy on iris data set is ::  0.9714285714285714\n"
     ]
    }
   ],
   "source": [
    "from sklearn.svm import SVC\n",
    "from sklearn.metrics import accuracy_score\n",
    "svm=SVC(kernel='linear')\n",
    "svm.fit(x_train,y_train)\n",
    "predictions=svm.predict(x_test)\n",
    "print(\"svm accuracy on iris data set is :: \" , accuracy_score(y_test,predictions))"
   ]
  },
  {
   "cell_type": "code",
   "execution_count": 77,
   "metadata": {},
   "outputs": [
    {
     "name": "stdout",
     "output_type": "stream",
     "text": [
      "naive accuracy on iris data set is ::  0.9523809523809523\n"
     ]
    }
   ],
   "source": [
    "from sklearn.naive_bayes import GaussianNB\n",
    "naive = GaussianNB()\n",
    "naive.fit(x_train,y_train)\n",
    "predictions=naive.predict(x_test)\n",
    "print(\"naive accuracy on iris data set is :: \" , accuracy_score(y_test,predictions))"
   ]
  },
  {
   "cell_type": "code",
   "execution_count": 79,
   "metadata": {},
   "outputs": [
    {
     "name": "stderr",
     "output_type": "stream",
     "text": [
      "C:\\Users\\manar\\Anaconda3\\lib\\site-packages\\matplotlib\\axes\\_axes.py:6462: UserWarning: The 'normed' kwarg is deprecated, and has been replaced by the 'density' kwarg.\n",
      "  warnings.warn(\"The 'normed' kwarg is deprecated, and has been \"\n",
      "C:\\Users\\manar\\Anaconda3\\lib\\site-packages\\matplotlib\\axes\\_axes.py:6462: UserWarning: The 'normed' kwarg is deprecated, and has been replaced by the 'density' kwarg.\n",
      "  warnings.warn(\"The 'normed' kwarg is deprecated, and has been \"\n"
     ]
    },
    {
     "data": {
      "text/plain": [
       "<matplotlib.axes._subplots.AxesSubplot at 0x2067bd8c080>"
      ]
     },
     "execution_count": 79,
     "metadata": {},
     "output_type": "execute_result"
    },
    {
     "data": {
      "image/png": "[encoded data removed]",
      "text/plain": [
       "<Figure size 432x288 with 1 Axes>"
      ]
     },
     "metadata": {},
     "output_type": "display_data"
    }
   ],
   "source": [
    "import seaborn as sns\n",
    "ax1=sns.distplot(y_test,color='b',label='actual values')\n",
    "sns.distplot(predictions,color='r',label='actual values',ax=ax1)\n"
   ]
  },
  {
   "cell_type": "code",
   "execution_count": 36,
   "metadata": {},
   "outputs": [
    {
     "name": "stdout",
     "output_type": "stream",
     "text": [
      "naive accuracy on iris data set is :: \n",
      "  [[31  0  0]\n",
      " [ 0 35  3]\n",
      " [ 0  3 33]] \n",
      "\n",
      "naive accuracy on iris data set is :: \n",
      "               precision    recall  f1-score   support\n",
      "\n",
      "          0       1.00      1.00      1.00        31\n",
      "          1       0.92      0.92      0.92        38\n",
      "          2       0.92      0.92      0.92        36\n",
      "\n",
      "avg / total       0.94      0.94      0.94       105\n",
      " \n",
      "\n",
      "r2_score :   0.9101283880171184\n"
     ]
    }
   ],
   "source": [
    "from sklearn.metrics import confusion_matrix\n",
    "from sklearn.metrics import classification_report\n",
    "from sklearn.metrics import r2_score\n",
    "print(\"naive accuracy on iris data set is :: \\n \" , confusion_matrix(y_test,predictions),\"\\n\")\n",
    "print(\"naive accuracy on iris data set is :: \\n \" , classification_report(y_test,predictions),\"\\n\")\n",
    "print(\"r2_score :  \",r2_score(y_test,predictions))\n",
    "\n"
   ]
  },
  {
   "cell_type": "code",
   "execution_count": 27,
   "metadata": {},
   "outputs": [
    {
     "name": "stdout",
     "output_type": "stream",
     "text": [
      "[2 2 2 1 1 0 2 2 1 1 1 2 1 2 1 1 2 2 0 2 2 0 0 1 0 1 1 2 2 1 0 0 1 2 0 2 2\n",
      " 2 0 0 2 1 2 0 1 2 1 2 1 0 1 2 1 0 0 2 0 0 2 1 2 2 2 2 1 2 2 1 2 2 2 0 1 0\n",
      " 2 2 1 0 1 0 2 0 2 2 0 1 2 1 1 2 2 0 2 1 0 2 1 2 1 0 2 0 0 2 2]\n"
     ]
    }
   ],
   "source": [
    "from sklearn.cluster import KMeans\n",
    "k_means = KMeans(n_clusters=3, random_state=0)\n",
    "k_means.fit(x_train)\n",
    "predictions=k_means.predict(x_test)\n",
    "print(predictions)"
   ]
  },
  {
   "cell_type": "code",
   "execution_count": 55,
   "metadata": {},
   "outputs": [
    {
     "name": "stdout",
     "output_type": "stream",
     "text": [
      "[1.         1.         0.90909091 0.9       ]\n",
      "naive accuracy on iris data set is ::  0.9428571428571428\n"
     ]
    }
   ],
   "source": [
    "from sklearn.cross_validation import cross_val_score\n",
    "print(cross_val_score(naive, x_train, y_train, cv=4))\n",
    "predictions=naive.predict(x_test)\n",
    "print(\"naive accuracy on iris data set is :: \" , accuracy_score(y_test,predictions))"
   ]
  },
  {
   "cell_type": "code",
   "execution_count": null,
   "metadata": {},
   "outputs": [],
   "source": [
    "from sklearn.grid_search import GridSearchCV\n",
    "from sklearn.neighbors import KNeighborsClassifier as knn\n",
    "import numpy as np\n",
    "params = {\"n_neighbors\": np.arange(1,3), \"metric\": [\"euclidean\", \"cityblock\"]}\n",
    "grid = GridSearchCV(estimator=knn,param_grid=params,cv=4)\n",
    "grid.fit(x,y)\n",
    "print(grid.best_score_)\n",
    "print(grid.best_estimator_.n_neighbors)\n",
    "\n",
    "#and that is Randamize parameter optimization \n",
    "from sklearn.grid_search import RandomizedSearchCV\n",
    "params = {\"n_neighbors\": range(1,5), \"weights\": [\"uniform\", \"distance\"]}\n",
    "rsearch = RandomizedSearchCV(estimator=knn,\n",
    "param_distributions=params,\n",
    "cv=4,\n",
    "n_iter=8,\n",
    "random_state=5)\n",
    "rsearch.fit(x_train, y_train)\n",
    "print(rsearch.best_score_)\n",
    "\n",
    "#grid.. is a validation way it take many parameters to minimize error and maximize r-square \n",
    "#cv -> cross validation to train and test in 4 portions \n",
    "#validation and optimization is nearly do the same job to increase performance "
   ]
  },
  {
   "cell_type": "code",
   "execution_count": 12,
   "metadata": {},
   "outputs": [],
   "source": [
    "from sklearn.decomposition import PCA\n",
    "pca=PCA(n_components=.95)\n",
    "x_pcaModel=pca.fit_transform(x_train)\n",
    "x2_pcaModel=pca.fit_transform(x_test)"
   ]
  },
  {
   "cell_type": "code",
   "execution_count": 8,
   "metadata": {},
   "outputs": [
    {
     "data": {
      "text/plain": [
       "array([[ 2.07377542e+00,  2.70481651e-01],\n",
       "       [-2.87247870e+00,  5.14210068e-01],\n",
       "       [-2.49126963e+00,  5.88707870e-01],\n",
       "       [-3.22083043e+00, -1.46068352e-01],\n",
       "       [ 1.23065681e+00, -1.19846978e-01],\n",
       "       [ 8.93165496e-01, -1.07961087e-01],\n",
       "       [ 3.60726937e+00,  1.92812969e-01],\n",
       "       [ 8.90887637e-01,  1.16423254e-01],\n",
       "       [-3.11642266e+00, -3.71893072e-01],\n",
       "       [ 2.10758776e+00,  1.01980561e-01],\n",
       "       [ 2.96874789e-01, -7.28279508e-02],\n",
       "       [ 1.45920222e+00,  2.04217457e-01],\n",
       "       [ 1.91588162e+00,  3.29365003e-01],\n",
       "       [ 1.53487031e-01,  2.59341572e-04],\n",
       "       [-2.84635640e+00, -3.00491065e-03],\n",
       "       [-2.82216304e+00,  3.57701013e-01],\n",
       "       [ 1.36516881e+00,  2.74342819e-01],\n",
       "       [ 1.02427219e-02, -3.23152911e-01],\n",
       "       [ 2.46634240e-01, -1.18852744e+00],\n",
       "       [-2.72427852e+00,  6.79651386e-01],\n",
       "       [ 1.96619728e+00,  1.72855948e-01],\n",
       "       [ 1.34118138e+00, -6.13417886e-01],\n",
       "       [ 1.06499832e+00, -7.14559859e-01],\n",
       "       [ 7.48672978e-01,  5.15172875e-01],\n",
       "       [ 1.07208228e+00, -1.29588938e-01],\n",
       "       [ 2.42487396e+00,  2.95791589e-01],\n",
       "       [ 7.39122797e-01,  3.42997999e-01],\n",
       "       [ 1.74947991e+00, -2.03417954e-01],\n",
       "       [ 3.32084909e+00,  4.21697462e-01],\n",
       "       [-5.65699437e-02, -7.49462544e-01],\n",
       "       [-3.45123597e+00, -2.93593774e-01],\n",
       "       [-9.53643528e-01, -8.96148401e-01],\n",
       "       [ 1.15037407e+00, -4.09025332e-01],\n",
       "       [ 6.05216883e-01, -2.87448831e-01],\n",
       "       [-1.14425122e+00, -6.47983975e-01],\n",
       "       [-8.06949660e-02, -2.34459471e-01],\n",
       "       [-5.21089147e-01, -2.55997781e-01],\n",
       "       [-3.03400550e+00,  8.94004850e-02],\n",
       "       [ 1.25517218e-01, -4.47639973e-01],\n",
       "       [-2.36149540e+00,  1.04925140e+00],\n",
       "       [ 7.08057261e-01, -1.23469393e-01],\n",
       "       [-2.67988004e+00,  8.34660391e-01],\n",
       "       [ 3.08213481e+00,  1.30336849e+00],\n",
       "       [ 1.08245664e+00, -2.85288296e-01],\n",
       "       [-3.05538372e+00, -3.05649238e-02]])"
      ]
     },
     "execution_count": 8,
     "metadata": {},
     "output_type": "execute_result"
    }
   ],
   "source": [
    "pcaModel #reduced 2D AND the data transforrmed from -3 to 3 "
   ]
  },
  {
   "cell_type": "code",
   "execution_count": 9,
   "metadata": {},
   "outputs": [
    {
     "data": {
      "text/plain": [
       "array([[6.7, 3.3, 5.7, 2.1],\n",
       "       [5.1, 3.5, 1.4, 0.2],\n",
       "       [5.4, 3.4, 1.7, 0.2],\n",
       "       [4.4, 3.2, 1.3, 0.2],\n",
       "       [6.3, 2.8, 5.1, 1.5],\n",
       "       [5.9, 3.2, 4.8, 1.8],\n",
       "       [7.7, 2.6, 6.9, 2.3],\n",
       "       [6.5, 2.8, 4.6, 1.5],\n",
       "       [4.4, 2.9, 1.4, 0.2],\n",
       "       [6.7, 3.1, 5.6, 2.4],\n",
       "       [5.9, 3. , 4.2, 1.5],\n",
       "       [6.5, 3.2, 5.1, 2. ],\n",
       "       [6.9, 3.1, 5.4, 2.1],\n",
       "       [6.1, 2.8, 4. , 1.3],\n",
       "       [4.7, 3.2, 1.6, 0.2],\n",
       "       [5. , 3.4, 1.5, 0.2],\n",
       "       [6.7, 3. , 5. , 1.7],\n",
       "       [5.8, 2.6, 4. , 1.2],\n",
       "       [4.9, 2.5, 4.5, 1.7],\n",
       "       [5.1, 3.8, 1.6, 0.2],\n",
       "       [6.8, 3. , 5.5, 2.1],\n",
       "       [5.8, 2.8, 5.1, 2.4],\n",
       "       [6. , 2.2, 5. , 1.5],\n",
       "       [6.7, 3.1, 4.4, 1.4],\n",
       "       [6.1, 3. , 4.9, 1.8],\n",
       "       [7.1, 3. , 5.9, 2.1],\n",
       "       [6.4, 3.2, 4.5, 1.5],\n",
       "       [6.3, 2.9, 5.6, 1.8],\n",
       "       [7.7, 2.8, 6.7, 2. ],\n",
       "       [5.5, 2.3, 4. , 1.3],\n",
       "       [4.3, 3. , 1.1, 0.1],\n",
       "       [5. , 2.3, 3.3, 1. ],\n",
       "       [6. , 2.7, 5.1, 1.6],\n",
       "       [6.3, 2.3, 4.4, 1.3],\n",
       "       [5.1, 2.5, 3. , 1.1],\n",
       "       [5.8, 2.7, 3.9, 1.2],\n",
       "       [5.7, 2.6, 3.5, 1. ],\n",
       "       [4.6, 3.4, 1.4, 0.3],\n",
       "       [5.6, 2.7, 4.2, 1.3],\n",
       "       [5.7, 3.8, 1.7, 0.3],\n",
       "       [6.1, 2.8, 4.7, 1.2],\n",
       "       [5.4, 3.7, 1.5, 0.2],\n",
       "       [7.9, 3.8, 6.4, 2. ],\n",
       "       [6.3, 2.5, 4.9, 1.5],\n",
       "       [4.6, 3.2, 1.4, 0.2]])"
      ]
     },
     "execution_count": 9,
     "metadata": {},
     "output_type": "execute_result"
    }
   ],
   "source": [
    "x_train"
   ]
  },
  {
   "cell_type": "code",
   "execution_count": 17,
   "metadata": {},
   "outputs": [
    {
     "name": "stdout",
     "output_type": "stream",
     "text": [
      "svm accuracy on iris data set is ::  0.8666666666666667\n"
     ]
    }
   ],
   "source": [
    "#ألصح اني كنت عملت التحويله نفسها علي الداتا الخاصه ب الفيشترز كلها قبل م اصلا اعمل تقسيمه ل تست وترين \n",
    "# from sklearn.svm import SVC\n",
    "from sklearn.metrics import accuracy_score\n",
    "svm=SVC(kernel='linear')\n",
    "svm.fit(x_pcaModel,y_train)\n",
    "predictions=svm.predict(x2_pcaModel)\n",
    "print(\"svm accuracy on iris data set is :: \" , accuracy_score(y_test,predictions))\n",
    "#هنا الدقه قلت جدااا لسبب بسيط جدااا ان الموديل اصلا كانت دقته عاليه ومش محتاج اي شغل عليه "
   ]
  },
  {
   "cell_type": "code",
   "execution_count": null,
   "metadata": {},
   "outputs": [],
   "source": []
  }
 ],
 "metadata": {
  "kernelspec": {
   "display_name": "Python 3",
   "language": "python",
   "name": "python3"
  },
  "language_info": {
   "codemirror_mode": {
    "name": "ipython",
    "version": 3
   },
   "file_extension": ".py",
   "mimetype": "text/x-python",
   "name": "python",
   "nbconvert_exporter": "python",
   "pygments_lexer": "ipython3",
   "version": "3.6.5"
  }
 },
 "nbformat": 4,
 "nbformat_minor": 2
}
